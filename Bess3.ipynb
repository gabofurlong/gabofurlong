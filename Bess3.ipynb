{
  "nbformat": 4,
  "nbformat_minor": 0,
  "metadata": {
    "colab": {
      "provenance": [],
      "authorship_tag": "ABX9TyNDCfOFmKNPauUGnM9lls/q",
      "include_colab_link": true
    },
    "kernelspec": {
      "name": "python3",
      "display_name": "Python 3"
    },
    "language_info": {
      "name": "python"
    }
  },
  "cells": [
    {
      "cell_type": "markdown",
      "metadata": {
        "id": "view-in-github",
        "colab_type": "text"
      },
      "source": [
        "<a href=\"https://colab.research.google.com/github/gabofurlong/gabofurlong/blob/main/Bess3.ipynb\" target=\"_parent\"><img src=\"https://colab.research.google.com/assets/colab-badge.svg\" alt=\"Open In Colab\"/></a>"
      ]
    },
    {
      "cell_type": "code",
      "execution_count": 1,
      "metadata": {
        "colab": {
          "base_uri": "https://localhost:8080/"
        },
        "id": "W-l-Tv2CrTq2",
        "outputId": "d64d3277-76d3-4464-964d-468ab11a58f4"
      },
      "outputs": [
        {
          "output_type": "stream",
          "name": "stdout",
          "text": [
            "ROI with 5% tariff reduction: 38.75%\n",
            "ROI with 2.0% degradation rate: 17.15%\n",
            "ROI with 3.0% degradation rate: 2.87%\n",
            "ROI with 5.0% degradation rate: -22.04%\n"
          ]
        }
      ],
      "source": [
        "import numpy as np\n",
        "\n",
        "# Initial parameters\n",
        "initial_investment = 1000000\n",
        "annual_operation_cost = 50000\n",
        "annual_revenue = 150000\n",
        "years = 15\n",
        "\n",
        "# Simulating Policy Change\n",
        "tariff_reduction = 0.05\n",
        "adjusted_revenue = annual_revenue * (1 - tariff_reduction)\n",
        "total_revenue_policy_change = adjusted_revenue * years\n",
        "roi_policy_change = (total_revenue_policy_change - (initial_investment + annual_operation_cost * years)) / initial_investment\n",
        "\n",
        "# Simulating Equipment Degradation\n",
        "degradation_rates = [0.02, 0.03, 0.05]\n",
        "roi_degradation = {}\n",
        "\n",
        "for rate in degradation_rates:\n",
        "    total_revenue = 0\n",
        "    for year in range(1, years + 1):\n",
        "        total_revenue += annual_revenue * (1 - rate) ** year\n",
        "    roi = (total_revenue - (initial_investment + annual_operation_cost * years)) / initial_investment\n",
        "    roi_degradation[rate] = roi\n",
        "\n",
        "# Displaying Results\n",
        "print(f\"ROI with 5% tariff reduction: {roi_policy_change*100:.2f}%\")\n",
        "for rate in degradation_rates:\n",
        "    print(f\"ROI with {rate*100}% degradation rate: {roi_degradation[rate]*100:.2f}%\")\n"
      ]
    }
  ]
}